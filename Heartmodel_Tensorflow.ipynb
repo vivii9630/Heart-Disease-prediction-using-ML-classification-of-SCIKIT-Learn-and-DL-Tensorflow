{
 "cells": [
  {
   "cell_type": "code",
   "execution_count": 1,
   "metadata": {},
   "outputs": [],
   "source": [
    "%matplotlib inline\n",
    "import numpy as np\n",
    "import pandas as pd\n",
    "import seaborn as sns\n",
    "from matplotlib import pyplot as plt"
   ]
  },
  {
   "cell_type": "code",
   "execution_count": 28,
   "metadata": {},
   "outputs": [
    {
     "name": "stdout",
     "output_type": "stream",
     "text": [
      "[[63.  1.  3. ...  0.  0.  1.]\n",
      " [37.  1.  2. ...  0.  0.  2.]\n",
      " [41.  0.  1. ...  2.  0.  2.]\n",
      " ...\n",
      " [68.  1.  0. ...  1.  2.  3.]\n",
      " [57.  1.  0. ...  1.  1.  3.]\n",
      " [57.  0.  1. ...  1.  1.  2.]] [1 1 1 1 1 1 1 1 1 1 1 1 1 1 1 1 1 1 1 1 1 1 1 1 1 1 1 1 1 1 1 1 1 1 1 1 1\n",
      " 1 1 1 1 1 1 1 1 1 1 1 1 1 1 1 1 1 1 1 1 1 1 1 1 1 1 1 1 1 1 1 1 1 1 1 1 1\n",
      " 1 1 1 1 1 1 1 1 1 1 1 1 1 1 1 1 1 1 1 1 1 1 1 1 1 1 1 1 1 1 1 1 1 1 1 1 1\n",
      " 1 1 1 1 1 1 1 1 1 1 1 1 1 1 1 1 1 1 1 1 1 1 1 1 1 1 1 1 1 1 1 1 1 1 1 1 1\n",
      " 1 1 1 1 1 1 1 1 1 1 1 1 1 1 1 1 1 0 0 0 0 0 0 0 0 0 0 0 0 0 0 0 0 0 0 0 0\n",
      " 0 0 0 0 0 0 0 0 0 0 0 0 0 0 0 0 0 0 0 0 0 0 0 0 0 0 0 0 0 0 0 0 0 0 0 0 0\n",
      " 0 0 0 0 0 0 0 0 0 0 0 0 0 0 0 0 0 0 0 0 0 0 0 0 0 0 0 0 0 0 0 0 0 0 0 0 0\n",
      " 0 0 0 0 0 0 0 0 0 0 0 0 0 0 0 0 0 0 0 0 0 0 0 0 0 0 0 0 0 0 0 0 0 0 0 0 0\n",
      " 0 0 0 0 0 0 0]\n"
     ]
    }
   ],
   "source": [
    "data = pd.read_csv('heart.csv')\n",
    "x= np.array(data.iloc[:, :-1])\n",
    "y = np.array(data.iloc[:,-1])\n",
    "print(x,y)"
   ]
  },
  {
   "cell_type": "code",
   "execution_count": 45,
   "metadata": {},
   "outputs": [
    {
     "data": {
      "text/plain": [
       "(303, 14)"
      ]
     },
     "execution_count": 45,
     "metadata": {},
     "output_type": "execute_result"
    }
   ],
   "source": [
    "data.shape"
   ]
  },
  {
   "cell_type": "code",
   "execution_count": 34,
   "metadata": {},
   "outputs": [],
   "source": [
    "from sklearn.preprocessing import StandardScaler\n",
    "scaler = StandardScaler()\n",
    "x=scaler.fit_transform(x)"
   ]
  },
  {
   "cell_type": "code",
   "execution_count": 41,
   "metadata": {},
   "outputs": [],
   "source": [
    "from sklearn.model_selection import train_test_split\n",
    "X_train,X_test, Y_train, Y_test = train_test_split(x,y,test_size = 0.25, random_state = 23 )"
   ]
  },
  {
   "cell_type": "code",
   "execution_count": 42,
   "metadata": {},
   "outputs": [
    {
     "name": "stdout",
     "output_type": "stream",
     "text": [
      "(227, 13)\n",
      "(76, 13)\n",
      "(227,)\n",
      "(76, 13)\n"
     ]
    }
   ],
   "source": [
    "print(X_train.shape)\n",
    "print(X_test.shape)\n",
    "print(Y_train.shape)\n",
    "print(X_test.shape)"
   ]
  },
  {
   "cell_type": "code",
   "execution_count": 62,
   "metadata": {},
   "outputs": [
    {
     "name": "stdout",
     "output_type": "stream",
     "text": [
      "Epoch 1/80\n",
      "26/26 [==============================] - 0s 552us/step - loss: 0.7292 - accuracy: 0.4714\n",
      "Epoch 2/80\n",
      "26/26 [==============================] - 0s 621us/step - loss: 0.6477 - accuracy: 0.6211\n",
      "Epoch 3/80\n",
      "26/26 [==============================] - 0s 588us/step - loss: 0.5868 - accuracy: 0.7004\n",
      "Epoch 4/80\n",
      "26/26 [==============================] - 0s 554us/step - loss: 0.5347 - accuracy: 0.7445\n",
      "Epoch 5/80\n",
      "26/26 [==============================] - 0s 537us/step - loss: 0.4882 - accuracy: 0.7797\n",
      "Epoch 6/80\n",
      "26/26 [==============================] - 0s 574us/step - loss: 0.4538 - accuracy: 0.8106\n",
      "Epoch 7/80\n",
      "26/26 [==============================] - 0s 576us/step - loss: 0.4253 - accuracy: 0.8238\n",
      "Epoch 8/80\n",
      "26/26 [==============================] - 0s 558us/step - loss: 0.4027 - accuracy: 0.8326\n",
      "Epoch 9/80\n",
      "26/26 [==============================] - 0s 614us/step - loss: 0.3849 - accuracy: 0.8370\n",
      "Epoch 10/80\n",
      "26/26 [==============================] - 0s 595us/step - loss: 0.3691 - accuracy: 0.8502\n",
      "Epoch 11/80\n",
      "26/26 [==============================] - 0s 533us/step - loss: 0.3558 - accuracy: 0.8458\n",
      "Epoch 12/80\n",
      "26/26 [==============================] - 0s 537us/step - loss: 0.3446 - accuracy: 0.8458\n",
      "Epoch 13/80\n",
      "26/26 [==============================] - 0s 577us/step - loss: 0.3348 - accuracy: 0.8502\n",
      "Epoch 14/80\n",
      "26/26 [==============================] - 0s 582us/step - loss: 0.3291 - accuracy: 0.8634\n",
      "Epoch 15/80\n",
      "26/26 [==============================] - 0s 586us/step - loss: 0.3214 - accuracy: 0.8678\n",
      "Epoch 16/80\n",
      "26/26 [==============================] - 0s 612us/step - loss: 0.3154 - accuracy: 0.8722\n",
      "Epoch 17/80\n",
      "26/26 [==============================] - 0s 627us/step - loss: 0.3095 - accuracy: 0.8678\n",
      "Epoch 18/80\n",
      "26/26 [==============================] - 0s 645us/step - loss: 0.3044 - accuracy: 0.8767\n",
      "Epoch 19/80\n",
      "26/26 [==============================] - 0s 632us/step - loss: 0.2993 - accuracy: 0.8767\n",
      "Epoch 20/80\n",
      "26/26 [==============================] - 0s 645us/step - loss: 0.2944 - accuracy: 0.8811\n",
      "Epoch 21/80\n",
      "26/26 [==============================] - 0s 602us/step - loss: 0.2897 - accuracy: 0.8899\n",
      "Epoch 22/80\n",
      "26/26 [==============================] - 0s 619us/step - loss: 0.2854 - accuracy: 0.8943\n",
      "Epoch 23/80\n",
      "26/26 [==============================] - 0s 614us/step - loss: 0.2818 - accuracy: 0.8943\n",
      "Epoch 24/80\n",
      "26/26 [==============================] - 0s 572us/step - loss: 0.2770 - accuracy: 0.8899\n",
      "Epoch 25/80\n",
      "26/26 [==============================] - 0s 615us/step - loss: 0.2740 - accuracy: 0.8899\n",
      "Epoch 26/80\n",
      "26/26 [==============================] - 0s 596us/step - loss: 0.2704 - accuracy: 0.8943\n",
      "Epoch 27/80\n",
      "26/26 [==============================] - 0s 593us/step - loss: 0.2674 - accuracy: 0.8987\n",
      "Epoch 28/80\n",
      "26/26 [==============================] - 0s 611us/step - loss: 0.2654 - accuracy: 0.8943\n",
      "Epoch 29/80\n",
      "26/26 [==============================] - 0s 643us/step - loss: 0.2619 - accuracy: 0.8987\n",
      "Epoch 30/80\n",
      "26/26 [==============================] - 0s 639us/step - loss: 0.2587 - accuracy: 0.9031\n",
      "Epoch 31/80\n",
      "26/26 [==============================] - 0s 569us/step - loss: 0.2551 - accuracy: 0.9075\n",
      "Epoch 32/80\n",
      "26/26 [==============================] - 0s 604us/step - loss: 0.2523 - accuracy: 0.9075\n",
      "Epoch 33/80\n",
      "26/26 [==============================] - 0s 575us/step - loss: 0.2490 - accuracy: 0.9031\n",
      "Epoch 34/80\n",
      "26/26 [==============================] - 0s 959us/step - loss: 0.2491 - accuracy: 0.9031\n",
      "Epoch 35/80\n",
      "26/26 [==============================] - ETA: 0s - loss: 0.4275 - accuracy: 0.55 - 0s 588us/step - loss: 0.2448 - accuracy: 0.9031\n",
      "Epoch 36/80\n",
      "26/26 [==============================] - 0s 593us/step - loss: 0.2403 - accuracy: 0.9075\n",
      "Epoch 37/80\n",
      "26/26 [==============================] - 0s 537us/step - loss: 0.2368 - accuracy: 0.9075\n",
      "Epoch 38/80\n",
      "26/26 [==============================] - 0s 575us/step - loss: 0.2340 - accuracy: 0.9119\n",
      "Epoch 39/80\n",
      "26/26 [==============================] - 0s 549us/step - loss: 0.2313 - accuracy: 0.9163\n",
      "Epoch 40/80\n",
      "26/26 [==============================] - 0s 576us/step - loss: 0.2284 - accuracy: 0.9163\n",
      "Epoch 41/80\n",
      "26/26 [==============================] - 0s 575us/step - loss: 0.2283 - accuracy: 0.9163\n",
      "Epoch 42/80\n",
      "26/26 [==============================] - 0s 574us/step - loss: 0.2246 - accuracy: 0.9163\n",
      "Epoch 43/80\n",
      "26/26 [==============================] - 0s 575us/step - loss: 0.2218 - accuracy: 0.9251\n",
      "Epoch 44/80\n",
      "26/26 [==============================] - 0s 614us/step - loss: 0.2188 - accuracy: 0.9251\n",
      "Epoch 45/80\n",
      "26/26 [==============================] - 0s 531us/step - loss: 0.2158 - accuracy: 0.9295\n",
      "Epoch 46/80\n",
      "26/26 [==============================] - 0s 574us/step - loss: 0.2131 - accuracy: 0.9295\n",
      "Epoch 47/80\n",
      "26/26 [==============================] - 0s 612us/step - loss: 0.2122 - accuracy: 0.9295\n",
      "Epoch 48/80\n",
      "26/26 [==============================] - 0s 585us/step - loss: 0.2077 - accuracy: 0.9295\n",
      "Epoch 49/80\n",
      "26/26 [==============================] - 0s 596us/step - loss: 0.2051 - accuracy: 0.9295\n",
      "Epoch 50/80\n",
      "26/26 [==============================] - 0s 575us/step - loss: 0.2033 - accuracy: 0.9339\n",
      "Epoch 51/80\n",
      "26/26 [==============================] - 0s 575us/step - loss: 0.2007 - accuracy: 0.9339\n",
      "Epoch 52/80\n",
      "26/26 [==============================] - 0s 598us/step - loss: 0.1992 - accuracy: 0.9339\n",
      "Epoch 53/80\n",
      "26/26 [==============================] - 0s 587us/step - loss: 0.1953 - accuracy: 0.9339\n",
      "Epoch 54/80\n",
      "26/26 [==============================] - 0s 631us/step - loss: 0.1927 - accuracy: 0.9383\n",
      "Epoch 55/80\n",
      "26/26 [==============================] - 0s 616us/step - loss: 0.1911 - accuracy: 0.9383\n",
      "Epoch 56/80\n",
      "26/26 [==============================] - 0s 611us/step - loss: 0.1865 - accuracy: 0.9383\n",
      "Epoch 57/80\n",
      "26/26 [==============================] - 0s 575us/step - loss: 0.1836 - accuracy: 0.9427\n",
      "Epoch 58/80\n",
      "26/26 [==============================] - 0s 575us/step - loss: 0.1839 - accuracy: 0.9471\n",
      "Epoch 59/80\n",
      "26/26 [==============================] - 0s 553us/step - loss: 0.1780 - accuracy: 0.9471\n",
      "Epoch 60/80\n",
      "26/26 [==============================] - 0s 546us/step - loss: 0.1746 - accuracy: 0.9471\n",
      "Epoch 61/80\n",
      "26/26 [==============================] - 0s 609us/step - loss: 0.1725 - accuracy: 0.9471\n",
      "Epoch 62/80\n",
      "26/26 [==============================] - 0s 614us/step - loss: 0.1698 - accuracy: 0.9515\n",
      "Epoch 63/80\n",
      "26/26 [==============================] - 0s 537us/step - loss: 0.1668 - accuracy: 0.9471\n",
      "Epoch 64/80\n",
      "26/26 [==============================] - 0s 588us/step - loss: 0.1632 - accuracy: 0.9471\n",
      "Epoch 65/80\n",
      "26/26 [==============================] - 0s 575us/step - loss: 0.1610 - accuracy: 0.9427\n",
      "Epoch 66/80\n",
      "26/26 [==============================] - 0s 582us/step - loss: 0.1595 - accuracy: 0.9559\n",
      "Epoch 67/80\n",
      "26/26 [==============================] - 0s 537us/step - loss: 0.1567 - accuracy: 0.9604\n",
      "Epoch 68/80\n",
      "26/26 [==============================] - 0s 594us/step - loss: 0.1538 - accuracy: 0.9648\n",
      "Epoch 69/80\n",
      "26/26 [==============================] - 0s 575us/step - loss: 0.1536 - accuracy: 0.9559\n",
      "Epoch 70/80\n",
      "26/26 [==============================] - 0s 534us/step - loss: 0.1466 - accuracy: 0.9559\n",
      "Epoch 71/80\n",
      "26/26 [==============================] - 0s 614us/step - loss: 0.1436 - accuracy: 0.9559\n",
      "Epoch 72/80\n",
      "26/26 [==============================] - 0s 618us/step - loss: 0.1412 - accuracy: 0.9604\n",
      "Epoch 73/80\n",
      "26/26 [==============================] - 0s 611us/step - loss: 0.1386 - accuracy: 0.9648\n",
      "Epoch 74/80\n",
      "26/26 [==============================] - 0s 596us/step - loss: 0.1368 - accuracy: 0.9692\n",
      "Epoch 75/80\n",
      "26/26 [==============================] - 0s 593us/step - loss: 0.1331 - accuracy: 0.9692\n",
      "Epoch 76/80\n",
      "26/26 [==============================] - 0s 578us/step - loss: 0.1316 - accuracy: 0.9736\n",
      "Epoch 77/80\n",
      "26/26 [==============================] - 0s 606us/step - loss: 0.1281 - accuracy: 0.9736\n",
      "Epoch 78/80\n",
      "26/26 [==============================] - 0s 595us/step - loss: 0.1253 - accuracy: 0.9736\n",
      "Epoch 79/80\n",
      "26/26 [==============================] - 0s 614us/step - loss: 0.1235 - accuracy: 0.9736\n",
      "Epoch 80/80\n",
      "26/26 [==============================] - 0s 537us/step - loss: 0.1221 - accuracy: 0.9824\n",
      "Model: \"sequential_16\"\n",
      "_________________________________________________________________\n",
      "Layer (type)                 Output Shape              Param #   \n",
      "=================================================================\n",
      "dense_44 (Dense)             (None, 13)                182       \n",
      "_________________________________________________________________\n",
      "dense_45 (Dense)             (None, 13)                182       \n",
      "_________________________________________________________________\n",
      "dense_46 (Dense)             (None, 1)                 14        \n",
      "=================================================================\n",
      "Total params: 378\n",
      "Trainable params: 378\n",
      "Non-trainable params: 0\n",
      "_________________________________________________________________\n"
     ]
    }
   ],
   "source": [
    "from tensorflow.keras import models\n",
    "from tensorflow.keras.models import Sequential\n",
    "from tensorflow.keras.layers import Dense\n",
    "\n",
    "batch_size = 9\n",
    "epoch = 80\n",
    "model = Sequential()\n",
    "model.add(Dense(units = 13, activation = 'relu'))\n",
    "model.add(Dense(units = 13, activation = 'relu'))\n",
    "model.add(Dense(units = 1, activation = 'sigmoid'))\n",
    "\n",
    "model.compile(optimizer = 'adam\n",
    "              ',loss = 'binary_crossentropy',metrics = ['accuracy'])\n",
    "model.fit(X_train,Y_train, batch_size = batch_size, epochs=epoch)\n",
    "model.summary()\n"
   ]
  },
  {
   "cell_type": "code",
   "execution_count": 73,
   "metadata": {},
   "outputs": [],
   "source": [
    "y_pred=model.predict(X_test)\n",
    "prediction = (y_pred>0.5)*1\n",
    "actual = data[['target']]"
   ]
  },
  {
   "cell_type": "code",
   "execution_count": 88,
   "metadata": {},
   "outputs": [],
   "source": [
    "pred=pd.DataFrame(data=prediction, index = None, columns = ['predicted'])"
   ]
  },
  {
   "cell_type": "code",
   "execution_count": 90,
   "metadata": {},
   "outputs": [],
   "source": [
    "final = pd.concat([actual,pred], axis = 1)"
   ]
  },
  {
   "cell_type": "code",
   "execution_count": 96,
   "metadata": {},
   "outputs": [
    {
     "data": {
      "text/html": [
       "<div>\n",
       "<style scoped>\n",
       "    .dataframe tbody tr th:only-of-type {\n",
       "        vertical-align: middle;\n",
       "    }\n",
       "\n",
       "    .dataframe tbody tr th {\n",
       "        vertical-align: top;\n",
       "    }\n",
       "\n",
       "    .dataframe thead th {\n",
       "        text-align: right;\n",
       "    }\n",
       "</style>\n",
       "<table border=\"1\" class=\"dataframe\">\n",
       "  <thead>\n",
       "    <tr style=\"text-align: right;\">\n",
       "      <th></th>\n",
       "      <th>target</th>\n",
       "      <th>predicted</th>\n",
       "    </tr>\n",
       "  </thead>\n",
       "  <tbody>\n",
       "    <tr>\n",
       "      <th>0</th>\n",
       "      <td>1</td>\n",
       "      <td>0.0</td>\n",
       "    </tr>\n",
       "    <tr>\n",
       "      <th>1</th>\n",
       "      <td>1</td>\n",
       "      <td>1.0</td>\n",
       "    </tr>\n",
       "    <tr>\n",
       "      <th>2</th>\n",
       "      <td>1</td>\n",
       "      <td>1.0</td>\n",
       "    </tr>\n",
       "    <tr>\n",
       "      <th>3</th>\n",
       "      <td>1</td>\n",
       "      <td>1.0</td>\n",
       "    </tr>\n",
       "    <tr>\n",
       "      <th>4</th>\n",
       "      <td>1</td>\n",
       "      <td>0.0</td>\n",
       "    </tr>\n",
       "  </tbody>\n",
       "</table>\n",
       "</div>"
      ],
      "text/plain": [
       "   target  predicted\n",
       "0       1        0.0\n",
       "1       1        1.0\n",
       "2       1        1.0\n",
       "3       1        1.0\n",
       "4       1        0.0"
      ]
     },
     "execution_count": 96,
     "metadata": {},
     "output_type": "execute_result"
    }
   ],
   "source": [
    "final.head()"
   ]
  },
  {
   "cell_type": "code",
   "execution_count": null,
   "metadata": {},
   "outputs": [],
   "source": []
  }
 ],
 "metadata": {
  "kernelspec": {
   "display_name": "Python 3",
   "language": "python",
   "name": "python3"
  },
  "language_info": {
   "codemirror_mode": {
    "name": "ipython",
    "version": 3
   },
   "file_extension": ".py",
   "mimetype": "text/x-python",
   "name": "python",
   "nbconvert_exporter": "python",
   "pygments_lexer": "ipython3",
   "version": "3.7.6"
  }
 },
 "nbformat": 4,
 "nbformat_minor": 4
}
